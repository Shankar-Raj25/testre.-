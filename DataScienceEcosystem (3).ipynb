{
 "cells": [
  {
   "cell_type": "markdown",
   "id": "84d753c4-9c49-4bba-80c3-b111994c50a5",
   "metadata": {},
   "source": [
    "# Data science final project: Exploring Key Concepts"
   ]
  },
  {
   "cell_type": "markdown",
   "id": "27697357-06f2-464c-a299-fc372aac1eb2",
   "metadata": {},
   "source": [
    "Introduction to Data Science:\n",
    "Data Science is a field that combines statistics, computer science, and domain- specific knowledge to extract insights from data. This notebook explores key concepts in data science. "
   ]
  },
  {
   "attachments": {},
   "cell_type": "markdown",
   "id": "e8ca5a89-d98c-47ac-959a-89a5e179796b",
   "metadata": {},
   "source": [
    "Data Science Libraries \n",
    "1. Pandas: A Python library for data manipulation and analysis.\n",
    "2. NumPy: A Python library for numerical computing.\n",
    "3. Matplotlib: A Python library for data visualization.\n",
    "4. Sckit-learn: A Python library for machine learning."
   ]
  },
  {
   "cell_type": "markdown",
   "id": "236a9d18-dcb3-4d79-8d5b-7a2b0187110a",
   "metadata": {},
   "source": [
    "  Data Science Tools \n",
    "|         Tool               |                 Description                       |\n",
    "| 1.    Jupyter Notebook     |         Interactive computing environment         |\n",
    "| 2.    GitHub               |      version control and collaboration platform   | \n",
    "| 3.    Apache Spark         |            Big data processing engine             |"
   ]
  },
  {
   "cell_type": "markdown",
   "id": "7508e130-b6c6-4a4a-9400-f601014a392e",
   "metadata": {},
   "source": [
    "Arithmetic Expressions:- \n",
    "Arithmetic expressions are used to perform mathematical operations on data. Examples include addition, subtraction, multiplication, and division. \n",
    "### Below are a few examples of evaluating arithmetic expression in python.\n"
   ]
  },
  {
   "cell_type": "code",
   "execution_count": 7,
   "id": "47dd03f0-6b80-47fd-8657-4e129e1b42de",
   "metadata": {},
   "outputs": [
    {
     "name": "stdout",
     "output_type": "stream",
     "text": [
      "Result: 10\n"
     ]
    }
   ],
   "source": [
    "#This  a arithmetic expression to multiply then add integers\n",
    "result = 2 * 3 + 4\n",
    "print(\"Result:\", result)"
   ]
  },
  {
   "cell_type": "code",
   "execution_count": 8,
   "id": "49328a98-1ae5-490e-97d2-f4dbbc9812ce",
   "metadata": {},
   "outputs": [
    {
     "name": "stdout",
     "output_type": "stream",
     "text": [
      "120minutes is equal to 2.0hours.\n"
     ]
    }
   ],
   "source": [
    "#This will convert 120 minutes to hours by diving by 60\n",
    "minutes = 120\n",
    "hours = minutes / 60\n",
    "print(f\"{minutes}minutes is equal to {hours}hours.\")"
   ]
  },
  {
   "cell_type": "markdown",
   "id": "330d4b75-97a3-4d0d-ad16-31d652bf77dc",
   "metadata": {},
   "source": [
    "Objectives:-\n",
    "* Explore data science languages and libraries.\n",
    "* Understand arithmetic expressions.\n",
    "* Create interactive visualizations."
   ]
  },
  {
   "cell_type": "markdown",
   "id": "41e3609d-0c57-4423-b479-68746c1f93d8",
   "metadata": {},
   "source": [
    "## Author\n",
    "SHANKAR RAJ"
   ]
  }
 ],
 "metadata": {
  "kernelspec": {
   "display_name": "Python 3 (ipykernel)",
   "language": "python",
   "name": "python3"
  },
  "language_info": {
   "codemirror_mode": {
    "name": "ipython",
    "version": 3
   },
   "file_extension": ".py",
   "mimetype": "text/x-python",
   "name": "python",
   "nbconvert_exporter": "python",
   "pygments_lexer": "ipython3",
   "version": "3.12.8"
  }
 },
 "nbformat": 4,
 "nbformat_minor": 5
}
